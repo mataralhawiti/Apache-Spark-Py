{
 "cells": [
  {
   "cell_type": "markdown",
   "metadata": {},
   "source": [
    "# Start Standalone Spark Cluster :"
   ]
  },
  {
   "cell_type": "markdown",
   "metadata": {},
   "source": [
    "### start the master"
   ]
  },
  {
   "cell_type": "code",
   "execution_count": null,
   "metadata": {},
   "outputs": [],
   "source": [
    "spark-class org.apache.spark.deploy.master.Master"
   ]
  },
  {
   "cell_type": "markdown",
   "metadata": {},
   "source": [
    "  -->  2019-04-22 09:21:01 INFO  Utils:54 - Successfully started service 'sparkMaster' on port 7077.\n",
    "  \n",
    "  -->  2019-04-22 09:21:02 INFO  Master:54 - Starting Spark master at spark://172.25.100.113:7077\n",
    "  \n",
    "  the master now is working on :\n",
    "  172.25.100.113:7077 (http://localhost:8080/)"
   ]
  },
  {
   "cell_type": "markdown",
   "metadata": {},
   "source": [
    "### Start the worker node"
   ]
  },
  {
   "cell_type": "code",
   "execution_count": null,
   "metadata": {},
   "outputs": [],
   "source": [
    "spark-class org.apache.spark.deploy.worker.Worker spark://172.25.100.113:7077"
   ]
  },
  {
   "cell_type": "markdown",
   "metadata": {},
   "source": [
    "  --> Successfully started service 'sparkWorker' on port 53326\n",
    "  the worker now is working on :\n",
    "  172.25.100.113:53326"
   ]
  },
  {
   "cell_type": "markdown",
   "metadata": {},
   "source": [
    "### start Spark History server"
   ]
  },
  {
   "cell_type": "code",
   "execution_count": null,
   "metadata": {},
   "outputs": [],
   "source": [
    "spark-class org.apache.spark.deploy.history.HistoryServer "
   ]
  }
 ],
 "metadata": {
  "kernelspec": {
   "display_name": "PySpark3",
   "language": "",
   "name": "pyspark3kernel"
  }
 },
 "nbformat": 4,
 "nbformat_minor": 2
}
