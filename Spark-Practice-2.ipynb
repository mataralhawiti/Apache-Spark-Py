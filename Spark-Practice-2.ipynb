{
 "cells": [
  {
   "cell_type": "code",
   "execution_count": 30,
   "metadata": {},
   "outputs": [],
   "source": [
    "from pyspark.sql import SparkSession"
   ]
  },
  {
   "cell_type": "code",
   "execution_count": 31,
   "metadata": {},
   "outputs": [],
   "source": [
    "spark = SparkSession \\\n",
    "                    .builder \\\n",
    "                    .master(\"local\") \\\n",
    "                    .appName(\"FirstSparkApp\") \\\n",
    "                    .getOrCreate()"
   ]
  },
  {
   "cell_type": "code",
   "execution_count": 32,
   "metadata": {},
   "outputs": [
    {
     "data": {
      "text/plain": [
       "[('spark.master', 'local'),\n",
       " ('spark.driver.host', 'host.docker.internal'),\n",
       " ('spark.app.id', 'local-1571639740569'),\n",
       " ('spark.eventLog.enabled', 'true'),\n",
       " ('spark.app.name', 'FirstSparkApp'),\n",
       " ('spark.rdd.compress', 'True'),\n",
       " ('spark.serializer.objectStreamReset', '100'),\n",
       " ('spark.executor.id', 'driver'),\n",
       " ('spark.submit.deployMode', 'client'),\n",
       " ('spark.driver.port', '50887'),\n",
       " ('spark.eventLog.dir', 'file:/tmp/spark-events'),\n",
       " ('spark.ui.showConsoleProgress', 'true')]"
      ]
     },
     "execution_count": 32,
     "metadata": {},
     "output_type": "execute_result"
    }
   ],
   "source": [
    "spark.sparkContext.getConf().getAll()"
   ]
  },
  {
   "cell_type": "code",
   "execution_count": 33,
   "metadata": {},
   "outputs": [
    {
     "data": {
      "text/html": [
       "\n",
       "            <div>\n",
       "                <p><b>SparkSession - in-memory</b></p>\n",
       "                \n",
       "        <div>\n",
       "            <p><b>SparkContext</b></p>\n",
       "\n",
       "            <p><a href=\"http://host.docker.internal:4042\">Spark UI</a></p>\n",
       "\n",
       "            <dl>\n",
       "              <dt>Version</dt>\n",
       "                <dd><code>v2.4.4</code></dd>\n",
       "              <dt>Master</dt>\n",
       "                <dd><code>local</code></dd>\n",
       "              <dt>AppName</dt>\n",
       "                <dd><code>FirstSparkApp</code></dd>\n",
       "            </dl>\n",
       "        </div>\n",
       "        \n",
       "            </div>\n",
       "        "
      ],
      "text/plain": [
       "<pyspark.sql.session.SparkSession at 0x169e8480240>"
      ]
     },
     "execution_count": 33,
     "metadata": {},
     "output_type": "execute_result"
    }
   ],
   "source": [
    "spark"
   ]
  },
  {
   "cell_type": "code",
   "execution_count": 7,
   "metadata": {},
   "outputs": [],
   "source": [
    "path = r\".\\search.json\""
   ]
  },
  {
   "cell_type": "code",
   "execution_count": 8,
   "metadata": {},
   "outputs": [],
   "source": [
    "search = spark.read.json(path, multiLine=True)"
   ]
  },
  {
   "cell_type": "code",
   "execution_count": 15,
   "metadata": {},
   "outputs": [
    {
     "data": {
      "text/plain": [
       "pyspark.sql.dataframe.DataFrame"
      ]
     },
     "execution_count": 15,
     "metadata": {},
     "output_type": "execute_result"
    }
   ],
   "source": [
    "type(search)"
   ]
  },
  {
   "cell_type": "code",
   "execution_count": 9,
   "metadata": {
    "scrolled": true
   },
   "outputs": [
    {
     "name": "stdout",
     "output_type": "stream",
     "text": [
      "root\n",
      " |-- designation: string (nullable = true)\n",
      " |-- discovery_date: string (nullable = true)\n",
      " |-- h_mag: string (nullable = true)\n",
      " |-- i_deg: string (nullable = true)\n",
      " |-- moid_au: string (nullable = true)\n",
      " |-- orbit_class: string (nullable = true)\n",
      " |-- period_yr: string (nullable = true)\n",
      " |-- pha: string (nullable = true)\n",
      " |-- q_au_1: string (nullable = true)\n",
      " |-- q_au_2: string (nullable = true)\n",
      "\n"
     ]
    }
   ],
   "source": [
    "search.printSchema()"
   ]
  },
  {
   "cell_type": "code",
   "execution_count": 10,
   "metadata": {},
   "outputs": [
    {
     "data": {
      "text/plain": [
       "DataFrame[summary: string, designation: string, discovery_date: string, h_mag: string, i_deg: string, moid_au: string, orbit_class: string, period_yr: string, pha: string, q_au_1: string, q_au_2: string]"
      ]
     },
     "execution_count": 10,
     "metadata": {},
     "output_type": "execute_result"
    }
   ],
   "source": [
    "search.describe()"
   ]
  },
  {
   "cell_type": "code",
   "execution_count": 11,
   "metadata": {},
   "outputs": [
    {
     "name": "stdout",
     "output_type": "stream",
     "text": [
      "+------------------+--------------------+-----+-----+-------+-----------+---------+---+------+------+\n",
      "|       designation|      discovery_date|h_mag|i_deg|moid_au|orbit_class|period_yr|pha|q_au_1|q_au_2|\n",
      "+------------------+--------------------+-----+-----+-------+-----------+---------+---+------+------+\n",
      "|419880 (2011 AH37)|2011-01-07T00:00:...| 19.7| 9.65|  0.035|     Apollo|     4.06|  Y|  0.84|  4.26|\n",
      "+------------------+--------------------+-----+-----+-------+-----------+---------+---+------+------+\n",
      "only showing top 1 row\n",
      "\n"
     ]
    }
   ],
   "source": [
    "search.show(n=1)"
   ]
  },
  {
   "cell_type": "code",
   "execution_count": 12,
   "metadata": {},
   "outputs": [
    {
     "data": {
      "text/plain": [
       "[Row(designation='419880 (2011 AH37)', discovery_date='2011-01-07T00:00:00.000', h_mag='19.7', i_deg='9.65', moid_au='0.035', orbit_class='Apollo', period_yr='4.06', pha='Y', q_au_1='0.84', q_au_2='4.26'),\n",
       " Row(designation='419624 (2010 SO16)', discovery_date='2010-09-17T00:00:00.000', h_mag='20.5', i_deg='14.52', moid_au='0.028', orbit_class='Apollo', period_yr='1', pha='Y', q_au_1='0.93', q_au_2='1.08'),\n",
       " Row(designation='414772 (2010 OC103)', discovery_date='2010-07-28T00:00:00.000', h_mag='19', i_deg='23.11', moid_au='0.333', orbit_class='Apollo', period_yr='1.31', pha='N', q_au_1='0.39', q_au_2='2'),\n",
       " Row(designation='414746 (2010 EH20)', discovery_date='2010-03-06T00:00:00.000', h_mag='18', i_deg='23.89', moid_au='0.268', orbit_class='Amor', period_yr='4.24', pha='N', q_au_1='1.25', q_au_2='3.99'),\n",
       " Row(designation='407324 (2010 OB101)', discovery_date='2010-07-18T00:00:00.000', h_mag='20.7', i_deg='9.12', moid_au='0.111', orbit_class='Apollo', period_yr='2.06', pha='N', q_au_1='0.77', q_au_2='2.46')]"
      ]
     },
     "execution_count": 12,
     "metadata": {},
     "output_type": "execute_result"
    }
   ],
   "source": [
    "search.take(5)"
   ]
  },
  {
   "cell_type": "code",
   "execution_count": 19,
   "metadata": {},
   "outputs": [],
   "source": [
    "out_path = r\".\\search_log.csv\""
   ]
  },
  {
   "cell_type": "code",
   "execution_count": 20,
   "metadata": {},
   "outputs": [],
   "source": [
    "search.write.save(out_path, format = \"csv\", header = True)"
   ]
  },
  {
   "cell_type": "code",
   "execution_count": 21,
   "metadata": {},
   "outputs": [],
   "source": [
    "search_csv = spark.read.csv(out_path, header = True)"
   ]
  },
  {
   "cell_type": "code",
   "execution_count": 23,
   "metadata": {},
   "outputs": [
    {
     "data": {
      "text/plain": [
       "pyspark.sql.dataframe.DataFrame"
      ]
     },
     "execution_count": 23,
     "metadata": {},
     "output_type": "execute_result"
    }
   ],
   "source": [
    "type(search_csv)"
   ]
  },
  {
   "cell_type": "code",
   "execution_count": 24,
   "metadata": {},
   "outputs": [
    {
     "name": "stdout",
     "output_type": "stream",
     "text": [
      "root\n",
      " |-- designation: string (nullable = true)\n",
      " |-- discovery_date: string (nullable = true)\n",
      " |-- h_mag: string (nullable = true)\n",
      " |-- i_deg: string (nullable = true)\n",
      " |-- moid_au: string (nullable = true)\n",
      " |-- orbit_class: string (nullable = true)\n",
      " |-- period_yr: string (nullable = true)\n",
      " |-- pha: string (nullable = true)\n",
      " |-- q_au_1: string (nullable = true)\n",
      " |-- q_au_2: string (nullable = true)\n",
      "\n"
     ]
    }
   ],
   "source": [
    "search_csv.printSchema()"
   ]
  },
  {
   "cell_type": "code",
   "execution_count": 22,
   "metadata": {
    "scrolled": false
   },
   "outputs": [
    {
     "name": "stdout",
     "output_type": "stream",
     "text": [
      "+------------------+--------------------+-----+-----+-------+-----------+---------+---+------+------+\n",
      "|       designation|      discovery_date|h_mag|i_deg|moid_au|orbit_class|period_yr|pha|q_au_1|q_au_2|\n",
      "+------------------+--------------------+-----+-----+-------+-----------+---------+---+------+------+\n",
      "|419880 (2011 AH37)|2011-01-07T00:00:...| 19.7| 9.65|  0.035|     Apollo|     4.06|  Y|  0.84|  4.26|\n",
      "|419624 (2010 SO16)|2010-09-17T00:00:...| 20.5|14.52|  0.028|     Apollo|        1|  Y|  0.93|  1.08|\n",
      "+------------------+--------------------+-----+-----+-------+-----------+---------+---+------+------+\n",
      "only showing top 2 rows\n",
      "\n"
     ]
    }
   ],
   "source": [
    "search_csv.show(n=2)"
   ]
  },
  {
   "cell_type": "code",
   "execution_count": 27,
   "metadata": {},
   "outputs": [
    {
     "name": "stdout",
     "output_type": "stream",
     "text": [
      "+-----------+\n",
      "|orbit_class|\n",
      "+-----------+\n",
      "|     Apollo|\n",
      "|     Apollo|\n",
      "|     Apollo|\n",
      "|       Amor|\n",
      "|     Apollo|\n",
      "|       Aten|\n",
      "|     Apollo|\n",
      "|     Apollo|\n",
      "|     Apollo|\n",
      "|     Apollo|\n",
      "|       Aten|\n",
      "|       Aten|\n",
      "|     Apollo|\n",
      "|       Amor|\n",
      "|       Amor|\n",
      "|     Apollo|\n",
      "|       Amor|\n",
      "|       Aten|\n",
      "|     Apollo|\n",
      "|     Apollo|\n",
      "+-----------+\n",
      "only showing top 20 rows\n",
      "\n"
     ]
    }
   ],
   "source": [
    "search_csv.select(\"orbit_class\").show()"
   ]
  },
  {
   "cell_type": "code",
   "execution_count": 28,
   "metadata": {},
   "outputs": [
    {
     "data": {
      "text/plain": [
       "[Row(designation='419880 (2011 AH37)', discovery_date='2011-01-07T00:00:00.000', h_mag='19.7', i_deg='9.65', moid_au='0.035', orbit_class='Apollo', period_yr='4.06', pha='Y', q_au_1='0.84', q_au_2='4.26')]"
      ]
     },
     "execution_count": 28,
     "metadata": {},
     "output_type": "execute_result"
    }
   ],
   "source": [
    "search_csv.take(1)"
   ]
  },
  {
   "cell_type": "code",
   "execution_count": 37,
   "metadata": {},
   "outputs": [],
   "source": [
    "spark.stop()"
   ]
  },
  {
   "cell_type": "code",
   "execution_count": null,
   "metadata": {},
   "outputs": [],
   "source": []
  }
 ],
 "metadata": {
  "kernelspec": {
   "display_name": "Python 3",
   "language": "python",
   "name": "python3"
  },
  "language_info": {
   "codemirror_mode": {
    "name": "ipython",
    "version": 3
   },
   "file_extension": ".py",
   "mimetype": "text/x-python",
   "name": "python",
   "nbconvert_exporter": "python",
   "pygments_lexer": "ipython3",
   "version": "3.6.5"
  }
 },
 "nbformat": 4,
 "nbformat_minor": 2
}
