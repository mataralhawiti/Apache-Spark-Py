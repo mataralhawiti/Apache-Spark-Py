{
 "cells": [
  {
   "cell_type": "code",
   "execution_count": 90,
   "metadata": {},
   "outputs": [],
   "source": [
    "from pyspark.sql import SparkSession\n",
    "from pyspark.sql.functions import udf\n",
    "from pyspark.sql.types import IntegerType\n",
    "import datetime"
   ]
  },
  {
   "cell_type": "code",
   "execution_count": 31,
   "metadata": {},
   "outputs": [],
   "source": [
    "spark = SparkSession \\\n",
    "                    .builder \\\n",
    "                    .master(\"local\") \\\n",
    "                    .appName(\"SparkPractice3\") \\\n",
    "                    .getOrCreate()"
   ]
  },
  {
   "cell_type": "code",
   "execution_count": 32,
   "metadata": {},
   "outputs": [
    {
     "data": {
      "text/plain": [
       "[('spark.master', 'local'),\n",
       " ('spark.driver.host', 'host.docker.internal'),\n",
       " ('spark.eventLog.enabled', 'true'),\n",
       " ('spark.app.id', 'local-1571642713077'),\n",
       " ('spark.rdd.compress', 'True'),\n",
       " ('spark.serializer.objectStreamReset', '100'),\n",
       " ('spark.executor.id', 'driver'),\n",
       " ('spark.driver.port', '56394'),\n",
       " ('spark.submit.deployMode', 'client'),\n",
       " ('spark.eventLog.dir', 'file:/tmp/spark-events'),\n",
       " ('spark.ui.showConsoleProgress', 'true'),\n",
       " ('spark.app.name', 'SparkPractice3')]"
      ]
     },
     "execution_count": 32,
     "metadata": {},
     "output_type": "execute_result"
    }
   ],
   "source": [
    "spark.sparkContext.getConf().getAll()"
   ]
  },
  {
   "cell_type": "code",
   "execution_count": 33,
   "metadata": {},
   "outputs": [
    {
     "data": {
      "text/html": [
       "\n",
       "            <div>\n",
       "                <p><b>SparkSession - in-memory</b></p>\n",
       "                \n",
       "        <div>\n",
       "            <p><b>SparkContext</b></p>\n",
       "\n",
       "            <p><a href=\"http://host.docker.internal:4042\">Spark UI</a></p>\n",
       "\n",
       "            <dl>\n",
       "              <dt>Version</dt>\n",
       "                <dd><code>v2.4.4</code></dd>\n",
       "              <dt>Master</dt>\n",
       "                <dd><code>local</code></dd>\n",
       "              <dt>AppName</dt>\n",
       "                <dd><code>SparkPractice3</code></dd>\n",
       "            </dl>\n",
       "        </div>\n",
       "        \n",
       "            </div>\n",
       "        "
      ],
      "text/plain": [
       "<pyspark.sql.session.SparkSession at 0x1de11481fd0>"
      ]
     },
     "execution_count": 33,
     "metadata": {},
     "output_type": "execute_result"
    }
   ],
   "source": [
    "spark"
   ]
  },
  {
   "cell_type": "code",
   "execution_count": 34,
   "metadata": {},
   "outputs": [],
   "source": [
    "path = r\".\\songs_events.json\""
   ]
  },
  {
   "cell_type": "code",
   "execution_count": 35,
   "metadata": {},
   "outputs": [],
   "source": [
    "df = spark.read.json(path)"
   ]
  },
  {
   "cell_type": "code",
   "execution_count": 36,
   "metadata": {},
   "outputs": [
    {
     "name": "stdout",
     "output_type": "stream",
     "text": [
      "root\n",
      " |-- artist: string (nullable = true)\n",
      " |-- auth: string (nullable = true)\n",
      " |-- firstName: string (nullable = true)\n",
      " |-- gender: string (nullable = true)\n",
      " |-- itemInSession: long (nullable = true)\n",
      " |-- lastName: string (nullable = true)\n",
      " |-- length: double (nullable = true)\n",
      " |-- level: string (nullable = true)\n",
      " |-- location: string (nullable = true)\n",
      " |-- method: string (nullable = true)\n",
      " |-- page: string (nullable = true)\n",
      " |-- registration: double (nullable = true)\n",
      " |-- sessionId: long (nullable = true)\n",
      " |-- song: string (nullable = true)\n",
      " |-- status: long (nullable = true)\n",
      " |-- ts: long (nullable = true)\n",
      " |-- userAgent: string (nullable = true)\n",
      " |-- userId: string (nullable = true)\n",
      "\n"
     ]
    }
   ],
   "source": [
    "df.printSchema()"
   ]
  },
  {
   "cell_type": "code",
   "execution_count": 37,
   "metadata": {},
   "outputs": [
    {
     "data": {
      "text/plain": [
       "DataFrame[summary: string, artist: string, auth: string, firstName: string, gender: string, itemInSession: string, lastName: string, length: string, level: string, location: string, method: string, page: string, registration: string, sessionId: string, song: string, status: string, ts: string, userAgent: string, userId: string]"
      ]
     },
     "execution_count": 37,
     "metadata": {},
     "output_type": "execute_result"
    }
   ],
   "source": [
    "df.describe()"
   ]
  },
  {
   "cell_type": "code",
   "execution_count": 38,
   "metadata": {},
   "outputs": [
    {
     "name": "stdout",
     "output_type": "stream",
     "text": [
      "+------------+---------+---------+------+-------------+--------+--------+-----+--------------------+------+--------+-----------------+---------+---------+------+-------------+--------------------+------+\n",
      "|      artist|     auth|firstName|gender|itemInSession|lastName|  length|level|            location|method|    page|     registration|sessionId|     song|status|           ts|           userAgent|userId|\n",
      "+------------+---------+---------+------+-------------+--------+--------+-----+--------------------+------+--------+-----------------+---------+---------+------+-------------+--------------------+------+\n",
      "|Miami Horror|Logged In|     Kate|     F|           88| Harrell|250.8273| paid|Lansing-East Lans...|   PUT|NextSong|1.540472624796E12|      293|Sometimes|   200|1541548876796|\"Mozilla/5.0 (X11...|    97|\n",
      "+------------+---------+---------+------+-------------+--------+--------+-----+--------------------+------+--------+-----------------+---------+---------+------+-------------+--------------------+------+\n",
      "only showing top 1 row\n",
      "\n"
     ]
    }
   ],
   "source": [
    "df.show(n=1)"
   ]
  },
  {
   "cell_type": "code",
   "execution_count": 39,
   "metadata": {},
   "outputs": [
    {
     "data": {
      "text/plain": [
       "[Row(artist='Miami Horror', auth='Logged In', firstName='Kate', gender='F', itemInSession=88, lastName='Harrell', length=250.8273, level='paid', location='Lansing-East Lansing, MI', method='PUT', page='NextSong', registration=1540472624796.0, sessionId=293, song='Sometimes', status=200, ts=1541548876796, userAgent='\"Mozilla/5.0 (X11; Linux x86_64) AppleWebKit/537.36 (KHTML, like Gecko) Chrome/37.0.2062.94 Safari/537.36\"', userId='97')]"
      ]
     },
     "execution_count": 39,
     "metadata": {},
     "output_type": "execute_result"
    }
   ],
   "source": [
    "df.take(1)"
   ]
  },
  {
   "cell_type": "code",
   "execution_count": 40,
   "metadata": {},
   "outputs": [
    {
     "name": "stdout",
     "output_type": "stream",
     "text": [
      "+-------+---------+\n",
      "|summary|   artist|\n",
      "+-------+---------+\n",
      "|  count|      972|\n",
      "|   mean|     null|\n",
      "| stddev|     null|\n",
      "|    min|      !!!|\n",
      "|    max|zebrahead|\n",
      "+-------+---------+\n",
      "\n"
     ]
    }
   ],
   "source": [
    "df.describe(\"artist\").show()"
   ]
  },
  {
   "cell_type": "code",
   "execution_count": 41,
   "metadata": {},
   "outputs": [
    {
     "name": "stdout",
     "output_type": "stream",
     "text": [
      "+-------+------------------+\n",
      "|summary|         sessionID|\n",
      "+-------+------------------+\n",
      "|  count|              1117|\n",
      "|   mean|488.28558639212173|\n",
      "| stddev|157.11506381542455|\n",
      "|    min|                 8|\n",
      "|    max|               674|\n",
      "+-------+------------------+\n",
      "\n"
     ]
    }
   ],
   "source": [
    "df.describe(\"sessionID\").show()"
   ]
  },
  {
   "cell_type": "code",
   "execution_count": 42,
   "metadata": {},
   "outputs": [
    {
     "data": {
      "text/plain": [
       "1117"
      ]
     },
     "execution_count": 42,
     "metadata": {},
     "output_type": "execute_result"
    }
   ],
   "source": [
    "df.count()"
   ]
  },
  {
   "cell_type": "code",
   "execution_count": 43,
   "metadata": {},
   "outputs": [
    {
     "name": "stdout",
     "output_type": "stream",
     "text": [
      "+-------------+\n",
      "|         page|\n",
      "+-------------+\n",
      "|        About|\n",
      "|    Downgrade|\n",
      "|         Help|\n",
      "|         Home|\n",
      "|        Login|\n",
      "|       Logout|\n",
      "|     NextSong|\n",
      "|Save Settings|\n",
      "|     Settings|\n",
      "|      Upgrade|\n",
      "+-------------+\n",
      "\n"
     ]
    }
   ],
   "source": [
    "df.select(\"page\").dropDuplicates().sort(\"page\").show()"
   ]
  },
  {
   "cell_type": "code",
   "execution_count": 75,
   "metadata": {},
   "outputs": [
    {
     "data": {
      "text/plain": [
       "[Row(userId='80', firstname='Tegan', page='Home', level='free', song=None),\n",
       " Row(userId='80', firstname='Tegan', page='NextSong', level='free', song=\"Baby I'm Yours\"),\n",
       " Row(userId='80', firstname='Tegan', page='Home', level='paid', song=None),\n",
       " Row(userId='80', firstname='Tegan', page='NextSong', level='paid', song='Best Of Both Worlds (Remastered Album Version)'),\n",
       " Row(userId='80', firstname='Tegan', page='NextSong', level='paid', song='Call Me If You Need Me'),\n",
       " Row(userId='80', firstname='Tegan', page='NextSong', level='paid', song='Home'),\n",
       " Row(userId='80', firstname='Tegan', page='NextSong', level='paid', song='OMG'),\n",
       " Row(userId='80', firstname='Tegan', page='Home', level='paid', song=None),\n",
       " Row(userId='80', firstname='Tegan', page='NextSong', level='paid', song='Candle On The Water'),\n",
       " Row(userId='80', firstname='Tegan', page='NextSong', level='paid', song='Our Song'),\n",
       " Row(userId='80', firstname='Tegan', page='NextSong', level='paid', song='Baby Boy [feat. Beyonce]'),\n",
       " Row(userId='80', firstname='Tegan', page='NextSong', level='paid', song='Human'),\n",
       " Row(userId='80', firstname='Tegan', page='NextSong', level='paid', song='Goodbye (Interlude)'),\n",
       " Row(userId='80', firstname='Tegan', page='Downgrade', level='paid', song=None),\n",
       " Row(userId='80', firstname='Tegan', page='Downgrade', level='paid', song=None),\n",
       " Row(userId='80', firstname='Tegan', page='NextSong', level='paid', song='Chill Out'),\n",
       " Row(userId='80', firstname='Tegan', page='NextSong', level='paid', song=\"What's A Broken Heart\"),\n",
       " Row(userId='80', firstname='Tegan', page='NextSong', level='paid', song='Christians In Black'),\n",
       " Row(userId='80', firstname='Tegan', page='NextSong', level='paid', song='Might Like You Better'),\n",
       " Row(userId='80', firstname='Tegan', page='NextSong', level='paid', song='Victoria (LP Version)'),\n",
       " Row(userId='80', firstname='Tegan', page='NextSong', level='paid', song=\"What's Luv? (Featuring Ja-Rule & Ashanti) (Explicit Album Version)\"),\n",
       " Row(userId='80', firstname='Tegan', page='NextSong', level='paid', song='Same Mistake  (Album Version)'),\n",
       " Row(userId='80', firstname='Tegan', page='NextSong', level='paid', song=\"Frisch und g'sund\"),\n",
       " Row(userId='80', firstname='Tegan', page='Downgrade', level='paid', song=None),\n",
       " Row(userId='80', firstname='Tegan', page='NextSong', level='paid', song=\"Should've Been A Cowboy\"),\n",
       " Row(userId='80', firstname='Tegan', page='NextSong', level='paid', song='Gears'),\n",
       " Row(userId='80', firstname='Tegan', page='NextSong', level='paid', song='Forgotten'),\n",
       " Row(userId='80', firstname='Tegan', page='NextSong', level='paid', song='The Way I Loved You'),\n",
       " Row(userId='80', firstname='Tegan', page='NextSong', level='paid', song=\"You're The One\"),\n",
       " Row(userId='80', firstname='Tegan', page='NextSong', level='paid', song='Do You Call My Name'),\n",
       " Row(userId='80', firstname='Tegan', page='NextSong', level='paid', song='Dans Ma Bulle (Edit Radio - Live 2006)'),\n",
       " Row(userId='80', firstname='Tegan', page='NextSong', level='paid', song='Love Remains (Home Demo)'),\n",
       " Row(userId='80', firstname='Tegan', page='NextSong', level='paid', song='Big'),\n",
       " Row(userId='80', firstname='Tegan', page='NextSong', level='paid', song=\"Hey Daddy (Daddy's Home)\"),\n",
       " Row(userId='80', firstname='Tegan', page='NextSong', level='paid', song='I Kissed A Girl'),\n",
       " Row(userId='80', firstname='Tegan', page='NextSong', level='paid', song='I Fought The Law (LP Version)'),\n",
       " Row(userId='80', firstname='Tegan', page='NextSong', level='paid', song='Too Much'),\n",
       " Row(userId='80', firstname='Tegan', page='NextSong', level='paid', song='All Hands Against His Own'),\n",
       " Row(userId='80', firstname='Tegan', page='NextSong', level='paid', song='Friends_ Lovers Or Nothing'),\n",
       " Row(userId='80', firstname='Tegan', page='NextSong', level='paid', song='A Gentle Heart'),\n",
       " Row(userId='80', firstname='Tegan', page='NextSong', level='paid', song='Tell Her Tonight'),\n",
       " Row(userId='80', firstname='Tegan', page='NextSong', level='paid', song='Stella By Starlight'),\n",
       " Row(userId='80', firstname='Tegan', page='NextSong', level='paid', song='Caprice viennois op.2'),\n",
       " Row(userId='80', firstname='Tegan', page='NextSong', level='paid', song='Ambrosia'),\n",
       " Row(userId='80', firstname='Tegan', page='NextSong', level='paid', song='Higher Messiah'),\n",
       " Row(userId='80', firstname='Tegan', page='NextSong', level='paid', song='Wounded Soul'),\n",
       " Row(userId='80', firstname='Tegan', page='NextSong', level='paid', song='Face Of Fear'),\n",
       " Row(userId='80', firstname='Tegan', page='NextSong', level='paid', song='What You Know'),\n",
       " Row(userId='80', firstname='Tegan', page='NextSong', level='paid', song='Hurt'),\n",
       " Row(userId='80', firstname='Tegan', page='NextSong', level='paid', song=\"So What's New\"),\n",
       " Row(userId='80', firstname='Tegan', page='NextSong', level='paid', song='Mooncalf'),\n",
       " Row(userId='80', firstname='Tegan', page='NextSong', level='paid', song=\"Bitches Ain't Shit\"),\n",
       " Row(userId='80', firstname='Tegan', page='NextSong', level='paid', song='Feiticeira (LP Version)'),\n",
       " Row(userId='80', firstname='Tegan', page='NextSong', level='paid', song='Map Of The Problematique'),\n",
       " Row(userId='80', firstname='Tegan', page='NextSong', level='paid', song='One And Only'),\n",
       " Row(userId='80', firstname='Tegan', page='NextSong', level='paid', song='The Way I Are'),\n",
       " Row(userId='80', firstname='Tegan', page='NextSong', level='paid', song='Baby_ I Love Your Way (Album Version)'),\n",
       " Row(userId='80', firstname='Tegan', page='NextSong', level='paid', song='Belong'),\n",
       " Row(userId='80', firstname='Tegan', page='NextSong', level='paid', song='My Favorite Things'),\n",
       " Row(userId='80', firstname='Tegan', page='NextSong', level='paid', song='Uncharted'),\n",
       " Row(userId='80', firstname='Tegan', page='NextSong', level='paid', song='Unite (2009 Digital Remaster)'),\n",
       " Row(userId='80', firstname='Tegan', page='NextSong', level='paid', song='Who Let You Go?'),\n",
       " Row(userId='80', firstname='Tegan', page='NextSong', level='paid', song='Good Soldier'),\n",
       " Row(userId='80', firstname='Tegan', page='NextSong', level='paid', song='Do You Remember'),\n",
       " Row(userId='80', firstname='Tegan', page='NextSong', level='paid', song='A Girl Like You'),\n",
       " Row(userId='80', firstname='Tegan', page='Home', level='paid', song=None),\n",
       " Row(userId='80', firstname='Tegan', page='NextSong', level='paid', song='Lagrimas Negras'),\n",
       " Row(userId='80', firstname='Tegan', page='NextSong', level='paid', song='Revelry'),\n",
       " Row(userId='80', firstname='Tegan', page='NextSong', level='paid', song='Love Is A Losing Game'),\n",
       " Row(userId='80', firstname='Tegan', page='NextSong', level='paid', song='Dog Days Are Over (Radio Edit)'),\n",
       " Row(userId='80', firstname='Tegan', page='NextSong', level='paid', song='Tiny Tears'),\n",
       " Row(userId='80', firstname='Tegan', page='NextSong', level='paid', song='Number One Song'),\n",
       " Row(userId='80', firstname='Tegan', page='NextSong', level='paid', song='Same Thing'),\n",
       " Row(userId='80', firstname='Tegan', page='NextSong', level='paid', song='Tell Me Baby (Album Version)'),\n",
       " Row(userId='80', firstname='Tegan', page='NextSong', level='paid', song='Dear God (Album Version)'),\n",
       " Row(userId='80', firstname='Tegan', page='NextSong', level='paid', song='Calling You'),\n",
       " Row(userId='80', firstname='Tegan', page='NextSong', level='paid', song='I Tried'),\n",
       " Row(userId='80', firstname='Tegan', page='NextSong', level='paid', song='Drama'),\n",
       " Row(userId='80', firstname='Tegan', page='NextSong', level='paid', song='Slowly'),\n",
       " Row(userId='80', firstname='Tegan', page='NextSong', level='paid', song='God Smack'),\n",
       " Row(userId='80', firstname='Tegan', page='NextSong', level='paid', song='Oceanside'),\n",
       " Row(userId='80', firstname='Tegan', page='NextSong', level='paid', song='Cigarettes_ Wedding Bands (Album)'),\n",
       " Row(userId='80', firstname='Tegan', page='NextSong', level='paid', song='Who Can Compare'),\n",
       " Row(userId='80', firstname='Tegan', page='NextSong', level='paid', song='On The Other Side'),\n",
       " Row(userId='80', firstname='Tegan', page='NextSong', level='paid', song='Bleed It Out [Live At Milton Keynes]'),\n",
       " Row(userId='80', firstname='Tegan', page='NextSong', level='paid', song='White Winter Hymnal'),\n",
       " Row(userId='80', firstname='Tegan', page='NextSong', level='paid', song='Civil War'),\n",
       " Row(userId='80', firstname='Tegan', page='NextSong', level='paid', song='Bend Over Beethoven'),\n",
       " Row(userId='80', firstname='Tegan', page='NextSong', level='paid', song='Who Do You Think You Are'),\n",
       " Row(userId='80', firstname='Tegan', page='NextSong', level='paid', song='Luces Sensacional'),\n",
       " Row(userId='80', firstname='Tegan', page='NextSong', level='paid', song='Triste Y Vacia'),\n",
       " Row(userId='80', firstname='Tegan', page='NextSong', level='paid', song='Place Vendome'),\n",
       " Row(userId='80', firstname='Tegan', page='NextSong', level='paid', song='Alaska'),\n",
       " Row(userId='80', firstname='Tegan', page='NextSong', level='paid', song=\"Ain't No Rest For The Wicked (Original Version)\"),\n",
       " Row(userId='80', firstname='Tegan', page='NextSong', level='paid', song='The Pretender'),\n",
       " Row(userId='80', firstname='Tegan', page='NextSong', level='paid', song='Bewildered'),\n",
       " Row(userId='80', firstname='Tegan', page='NextSong', level='paid', song='Supermassive Black Hole (Twilight Soundtrack Version)'),\n",
       " Row(userId='80', firstname='Tegan', page='NextSong', level='paid', song='Umbrella Beach'),\n",
       " Row(userId='80', firstname='Tegan', page='NextSong', level='paid', song='Canto Abacua'),\n",
       " Row(userId='80', firstname='Tegan', page='NextSong', level='paid', song='Over My Head (Cable Car)'),\n",
       " Row(userId='80', firstname='Tegan', page='NextSong', level='paid', song='SonoritÃ\\x83Â©s'),\n",
       " Row(userId='80', firstname='Tegan', page='NextSong', level='paid', song='Castle On A Cloud'),\n",
       " Row(userId='80', firstname='Tegan', page='NextSong', level='paid', song='Making Love (Into The Night)'),\n",
       " Row(userId='80', firstname='Tegan', page='NextSong', level='paid', song='Kryptonite'),\n",
       " Row(userId='80', firstname='Tegan', page='NextSong', level='paid', song='When I Grow Up'),\n",
       " Row(userId='80', firstname='Tegan', page='NextSong', level='paid', song='Dear John'),\n",
       " Row(userId='80', firstname='Tegan', page='NextSong', level='paid', song='Home (Album Version)'),\n",
       " Row(userId='80', firstname='Tegan', page='NextSong', level='paid', song='Forgiven'),\n",
       " Row(userId='80', firstname='Tegan', page='NextSong', level='paid', song='If You Want Blood'),\n",
       " Row(userId='80', firstname='Tegan', page='NextSong', level='paid', song='Give It Up (feat. Pharrell Williams) (Amended Album Version)'),\n",
       " Row(userId='80', firstname='Tegan', page='NextSong', level='paid', song='You Are Mine'),\n",
       " Row(userId='80', firstname='Tegan', page='Downgrade', level='paid', song=None),\n",
       " Row(userId='80', firstname='Tegan', page='NextSong', level='paid', song='Pojo Pojo'),\n",
       " Row(userId='80', firstname='Tegan', page='NextSong', level='paid', song='Like A Rolling Stone'),\n",
       " Row(userId='80', firstname='Tegan', page='NextSong', level='paid', song='Begin Again (Album Version)'),\n",
       " Row(userId='80', firstname='Tegan', page='Logout', level='paid', song=None)]"
      ]
     },
     "execution_count": 75,
     "metadata": {},
     "output_type": "execute_result"
    }
   ],
   "source": [
    "df.select([\"userId\", \"firstname\", \"page\", \"level\", \"song\"]).where(df.userId == \"80\").collect()"
   ]
  },
  {
   "cell_type": "code",
   "execution_count": 76,
   "metadata": {},
   "outputs": [],
   "source": [
    "get_hour = udf(lambda x: datetime.datetime.fromtimestamp(x / 1000.0).hour)"
   ]
  },
  {
   "cell_type": "code",
   "execution_count": 77,
   "metadata": {},
   "outputs": [],
   "source": [
    "df = df.withColumn(\"hour\", get_hour(df.ts))"
   ]
  },
  {
   "cell_type": "code",
   "execution_count": 78,
   "metadata": {},
   "outputs": [
    {
     "data": {
      "text/plain": [
       "Row(artist='Miami Horror', auth='Logged In', firstName='Kate', gender='F', itemInSession=88, lastName='Harrell', length=250.8273, level='paid', location='Lansing-East Lansing, MI', method='PUT', page='NextSong', registration=1540472624796.0, sessionId=293, song='Sometimes', status=200, ts=1541548876796, userAgent='\"Mozilla/5.0 (X11; Linux x86_64) AppleWebKit/537.36 (KHTML, like Gecko) Chrome/37.0.2062.94 Safari/537.36\"', userId='97', hour='3')"
      ]
     },
     "execution_count": 78,
     "metadata": {},
     "output_type": "execute_result"
    }
   ],
   "source": [
    "df.head()"
   ]
  },
  {
   "cell_type": "code",
   "execution_count": 79,
   "metadata": {},
   "outputs": [],
   "source": [
    "songs_in_hour = df.filter(df.page == \"NextSong\") \\\n",
    "                    .groupby(df.hour) \\\n",
    "                    .count() \\\n",
    "                    .orderBy(df.hour.cast(\"float\"))"
   ]
  },
  {
   "cell_type": "code",
   "execution_count": 80,
   "metadata": {},
   "outputs": [
    {
     "name": "stdout",
     "output_type": "stream",
     "text": [
      "+----+-----+\n",
      "|hour|count|\n",
      "+----+-----+\n",
      "|   0|   43|\n",
      "|   1|   34|\n",
      "|   2|   29|\n",
      "|   3|   27|\n",
      "|   4|    5|\n",
      "|   5|    2|\n",
      "|   6|    6|\n",
      "|   8|   10|\n",
      "|   9|   15|\n",
      "|  10|   13|\n",
      "|  11|   12|\n",
      "|  12|   30|\n",
      "|  13|   55|\n",
      "|  14|   63|\n",
      "|  15|   44|\n",
      "|  16|   50|\n",
      "|  17|   70|\n",
      "|  18|   61|\n",
      "|  19|   86|\n",
      "|  20|   78|\n",
      "+----+-----+\n",
      "only showing top 20 rows\n",
      "\n"
     ]
    }
   ],
   "source": [
    "songs_in_hour.show()"
   ]
  },
  {
   "cell_type": "code",
   "execution_count": 81,
   "metadata": {},
   "outputs": [],
   "source": [
    "song_in_hour_pd = songs_in_hour.toPandas()"
   ]
  },
  {
   "cell_type": "code",
   "execution_count": 82,
   "metadata": {},
   "outputs": [
    {
     "data": {
      "text/html": [
       "<div>\n",
       "<style scoped>\n",
       "    .dataframe tbody tr th:only-of-type {\n",
       "        vertical-align: middle;\n",
       "    }\n",
       "\n",
       "    .dataframe tbody tr th {\n",
       "        vertical-align: top;\n",
       "    }\n",
       "\n",
       "    .dataframe thead th {\n",
       "        text-align: right;\n",
       "    }\n",
       "</style>\n",
       "<table border=\"1\" class=\"dataframe\">\n",
       "  <thead>\n",
       "    <tr style=\"text-align: right;\">\n",
       "      <th></th>\n",
       "      <th>hour</th>\n",
       "      <th>count</th>\n",
       "    </tr>\n",
       "  </thead>\n",
       "  <tbody>\n",
       "    <tr>\n",
       "      <th>0</th>\n",
       "      <td>0</td>\n",
       "      <td>43</td>\n",
       "    </tr>\n",
       "    <tr>\n",
       "      <th>1</th>\n",
       "      <td>1</td>\n",
       "      <td>34</td>\n",
       "    </tr>\n",
       "    <tr>\n",
       "      <th>2</th>\n",
       "      <td>2</td>\n",
       "      <td>29</td>\n",
       "    </tr>\n",
       "    <tr>\n",
       "      <th>3</th>\n",
       "      <td>3</td>\n",
       "      <td>27</td>\n",
       "    </tr>\n",
       "    <tr>\n",
       "      <th>4</th>\n",
       "      <td>4</td>\n",
       "      <td>5</td>\n",
       "    </tr>\n",
       "  </tbody>\n",
       "</table>\n",
       "</div>"
      ],
      "text/plain": [
       "  hour  count\n",
       "0    0     43\n",
       "1    1     34\n",
       "2    2     29\n",
       "3    3     27\n",
       "4    4      5"
      ]
     },
     "execution_count": 82,
     "metadata": {},
     "output_type": "execute_result"
    }
   ],
   "source": [
    "song_in_hour_pd.head()"
   ]
  },
  {
   "cell_type": "code",
   "execution_count": 83,
   "metadata": {},
   "outputs": [],
   "source": [
    "df_valid = df.dropna(how = \"any\", subset = [\"userId\", \"sessionId\"])"
   ]
  },
  {
   "cell_type": "code",
   "execution_count": 84,
   "metadata": {},
   "outputs": [
    {
     "data": {
      "text/plain": [
       "1117"
      ]
     },
     "execution_count": 84,
     "metadata": {},
     "output_type": "execute_result"
    }
   ],
   "source": [
    "df_valid.count()"
   ]
  },
  {
   "cell_type": "code",
   "execution_count": 85,
   "metadata": {},
   "outputs": [],
   "source": [
    "df_valid = df_valid.filter(df_valid[\"userId\"] != \"\")"
   ]
  },
  {
   "cell_type": "code",
   "execution_count": 86,
   "metadata": {},
   "outputs": [
    {
     "data": {
      "text/plain": [
       "1089"
      ]
     },
     "execution_count": 86,
     "metadata": {},
     "output_type": "execute_result"
    }
   ],
   "source": [
    "df_valid.count()"
   ]
  },
  {
   "cell_type": "code",
   "execution_count": null,
   "metadata": {},
   "outputs": [],
   "source": [
    "# beofre and after specific event\n"
   ]
  },
  {
   "cell_type": "code",
   "execution_count": 91,
   "metadata": {},
   "outputs": [],
   "source": [
    "flag_downgrade_event = udf(lambda x: 1 if x == \"Downgrade\" else 0, IntegerType())"
   ]
  },
  {
   "cell_type": "code",
   "execution_count": 92,
   "metadata": {},
   "outputs": [],
   "source": [
    "df_valid = df_valid.withColumn(\"downgraded\", flag_downgrade_event(\"page\"))"
   ]
  },
  {
   "cell_type": "code",
   "execution_count": 94,
   "metadata": {
    "scrolled": false
   },
   "outputs": [
    {
     "data": {
      "text/plain": [
       "Row(artist='Miami Horror', auth='Logged In', firstName='Kate', gender='F', itemInSession=88, lastName='Harrell', length=250.8273, level='paid', location='Lansing-East Lansing, MI', method='PUT', page='NextSong', registration=1540472624796.0, sessionId=293, song='Sometimes', status=200, ts=1541548876796, userAgent='\"Mozilla/5.0 (X11; Linux x86_64) AppleWebKit/537.36 (KHTML, like Gecko) Chrome/37.0.2062.94 Safari/537.36\"', userId='97', hour='3', downgraded=0)"
      ]
     },
     "execution_count": 94,
     "metadata": {},
     "output_type": "execute_result"
    }
   ],
   "source": [
    "df_valid.head()"
   ]
  },
  {
   "cell_type": "code",
   "execution_count": 95,
   "metadata": {},
   "outputs": [],
   "source": [
    "spark.stop()"
   ]
  },
  {
   "cell_type": "code",
   "execution_count": null,
   "metadata": {},
   "outputs": [],
   "source": []
  }
 ],
 "metadata": {
  "kernelspec": {
   "display_name": "Python 3",
   "language": "python",
   "name": "python3"
  },
  "language_info": {
   "codemirror_mode": {
    "name": "ipython",
    "version": 3
   },
   "file_extension": ".py",
   "mimetype": "text/x-python",
   "name": "python",
   "nbconvert_exporter": "python",
   "pygments_lexer": "ipython3",
   "version": "3.6.5"
  }
 },
 "nbformat": 4,
 "nbformat_minor": 2
}
