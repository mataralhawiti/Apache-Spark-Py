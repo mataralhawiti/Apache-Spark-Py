{
 "cells": [
  {
   "cell_type": "code",
   "execution_count": 97,
   "metadata": {},
   "outputs": [],
   "source": [
    "from pyspark.sql import SparkSession\n",
    "from pyspark.sql.functions import udf\n",
    "from pyspark.sql.types import IntegerType\n",
    "import datetime"
   ]
  },
  {
   "cell_type": "code",
   "execution_count": 98,
   "metadata": {},
   "outputs": [],
   "source": [
    "spark = SparkSession \\\n",
    "                    .builder \\\n",
    "                    .master(\"local\") \\\n",
    "                    .appName(\"SparkPractice3\") \\\n",
    "                    .getOrCreate()"
   ]
  },
  {
   "cell_type": "code",
   "execution_count": 99,
   "metadata": {},
   "outputs": [
    {
     "data": {
      "text/plain": [
       "[('spark.master', 'local'),\n",
       " ('spark.driver.host', 'host.docker.internal'),\n",
       " ('spark.eventLog.enabled', 'true'),\n",
       " ('spark.app.id', 'local-1571656623750'),\n",
       " ('spark.driver.port', '63814'),\n",
       " ('spark.rdd.compress', 'True'),\n",
       " ('spark.serializer.objectStreamReset', '100'),\n",
       " ('spark.executor.id', 'driver'),\n",
       " ('spark.submit.deployMode', 'client'),\n",
       " ('spark.eventLog.dir', 'file:/tmp/spark-events'),\n",
       " ('spark.ui.showConsoleProgress', 'true'),\n",
       " ('spark.app.name', 'SparkPractice3')]"
      ]
     },
     "execution_count": 99,
     "metadata": {},
     "output_type": "execute_result"
    }
   ],
   "source": [
    "spark.sparkContext.getConf().getAll()"
   ]
  },
  {
   "cell_type": "code",
   "execution_count": 100,
   "metadata": {},
   "outputs": [
    {
     "data": {
      "text/html": [
       "\n",
       "            <div>\n",
       "                <p><b>SparkSession - in-memory</b></p>\n",
       "                \n",
       "        <div>\n",
       "            <p><b>SparkContext</b></p>\n",
       "\n",
       "            <p><a href=\"http://host.docker.internal:4042\">Spark UI</a></p>\n",
       "\n",
       "            <dl>\n",
       "              <dt>Version</dt>\n",
       "                <dd><code>v2.4.4</code></dd>\n",
       "              <dt>Master</dt>\n",
       "                <dd><code>local</code></dd>\n",
       "              <dt>AppName</dt>\n",
       "                <dd><code>SparkPractice3</code></dd>\n",
       "            </dl>\n",
       "        </div>\n",
       "        \n",
       "            </div>\n",
       "        "
      ],
      "text/plain": [
       "<pyspark.sql.session.SparkSession at 0x1de13a9e588>"
      ]
     },
     "execution_count": 100,
     "metadata": {},
     "output_type": "execute_result"
    }
   ],
   "source": [
    "spark"
   ]
  },
  {
   "cell_type": "code",
   "execution_count": 101,
   "metadata": {},
   "outputs": [],
   "source": [
    "path = r\".\\songs_events.json\""
   ]
  },
  {
   "cell_type": "code",
   "execution_count": 102,
   "metadata": {},
   "outputs": [],
   "source": [
    "df = spark.read.json(path)"
   ]
  },
  {
   "cell_type": "code",
   "execution_count": 103,
   "metadata": {},
   "outputs": [
    {
     "name": "stdout",
     "output_type": "stream",
     "text": [
      "root\n",
      " |-- artist: string (nullable = true)\n",
      " |-- auth: string (nullable = true)\n",
      " |-- firstName: string (nullable = true)\n",
      " |-- gender: string (nullable = true)\n",
      " |-- itemInSession: long (nullable = true)\n",
      " |-- lastName: string (nullable = true)\n",
      " |-- length: double (nullable = true)\n",
      " |-- level: string (nullable = true)\n",
      " |-- location: string (nullable = true)\n",
      " |-- method: string (nullable = true)\n",
      " |-- page: string (nullable = true)\n",
      " |-- registration: double (nullable = true)\n",
      " |-- sessionId: long (nullable = true)\n",
      " |-- song: string (nullable = true)\n",
      " |-- status: long (nullable = true)\n",
      " |-- ts: long (nullable = true)\n",
      " |-- userAgent: string (nullable = true)\n",
      " |-- userId: string (nullable = true)\n",
      "\n"
     ]
    }
   ],
   "source": [
    "df.printSchema()"
   ]
  },
  {
   "cell_type": "code",
   "execution_count": 104,
   "metadata": {},
   "outputs": [
    {
     "data": {
      "text/plain": [
       "DataFrame[summary: string, artist: string, auth: string, firstName: string, gender: string, itemInSession: string, lastName: string, length: string, level: string, location: string, method: string, page: string, registration: string, sessionId: string, song: string, status: string, ts: string, userAgent: string, userId: string]"
      ]
     },
     "execution_count": 104,
     "metadata": {},
     "output_type": "execute_result"
    }
   ],
   "source": [
    "df.describe()"
   ]
  },
  {
   "cell_type": "code",
   "execution_count": 105,
   "metadata": {},
   "outputs": [
    {
     "name": "stdout",
     "output_type": "stream",
     "text": [
      "+------------+---------+---------+------+-------------+--------+--------+-----+--------------------+------+--------+-----------------+---------+---------+------+-------------+--------------------+------+\n",
      "|      artist|     auth|firstName|gender|itemInSession|lastName|  length|level|            location|method|    page|     registration|sessionId|     song|status|           ts|           userAgent|userId|\n",
      "+------------+---------+---------+------+-------------+--------+--------+-----+--------------------+------+--------+-----------------+---------+---------+------+-------------+--------------------+------+\n",
      "|Miami Horror|Logged In|     Kate|     F|           88| Harrell|250.8273| paid|Lansing-East Lans...|   PUT|NextSong|1.540472624796E12|      293|Sometimes|   200|1541548876796|\"Mozilla/5.0 (X11...|    97|\n",
      "+------------+---------+---------+------+-------------+--------+--------+-----+--------------------+------+--------+-----------------+---------+---------+------+-------------+--------------------+------+\n",
      "only showing top 1 row\n",
      "\n"
     ]
    }
   ],
   "source": [
    "df.show(n=1)"
   ]
  },
  {
   "cell_type": "code",
   "execution_count": 106,
   "metadata": {},
   "outputs": [
    {
     "data": {
      "text/plain": [
       "[Row(artist='Miami Horror', auth='Logged In', firstName='Kate', gender='F', itemInSession=88, lastName='Harrell', length=250.8273, level='paid', location='Lansing-East Lansing, MI', method='PUT', page='NextSong', registration=1540472624796.0, sessionId=293, song='Sometimes', status=200, ts=1541548876796, userAgent='\"Mozilla/5.0 (X11; Linux x86_64) AppleWebKit/537.36 (KHTML, like Gecko) Chrome/37.0.2062.94 Safari/537.36\"', userId='97')]"
      ]
     },
     "execution_count": 106,
     "metadata": {},
     "output_type": "execute_result"
    }
   ],
   "source": [
    "df.take(1)"
   ]
  },
  {
   "cell_type": "code",
   "execution_count": 107,
   "metadata": {},
   "outputs": [
    {
     "name": "stdout",
     "output_type": "stream",
     "text": [
      "+-------+---------+\n",
      "|summary|   artist|\n",
      "+-------+---------+\n",
      "|  count|      972|\n",
      "|   mean|     null|\n",
      "| stddev|     null|\n",
      "|    min|      !!!|\n",
      "|    max|zebrahead|\n",
      "+-------+---------+\n",
      "\n"
     ]
    }
   ],
   "source": [
    "df.describe(\"artist\").show()"
   ]
  },
  {
   "cell_type": "code",
   "execution_count": 108,
   "metadata": {},
   "outputs": [
    {
     "name": "stdout",
     "output_type": "stream",
     "text": [
      "+-------+------------------+\n",
      "|summary|         sessionID|\n",
      "+-------+------------------+\n",
      "|  count|              1117|\n",
      "|   mean|488.28558639212173|\n",
      "| stddev|157.11506381542455|\n",
      "|    min|                 8|\n",
      "|    max|               674|\n",
      "+-------+------------------+\n",
      "\n"
     ]
    }
   ],
   "source": [
    "df.describe(\"sessionID\").show()"
   ]
  },
  {
   "cell_type": "code",
   "execution_count": 109,
   "metadata": {},
   "outputs": [
    {
     "data": {
      "text/plain": [
       "1117"
      ]
     },
     "execution_count": 109,
     "metadata": {},
     "output_type": "execute_result"
    }
   ],
   "source": [
    "df.count()"
   ]
  },
  {
   "cell_type": "code",
   "execution_count": 110,
   "metadata": {},
   "outputs": [
    {
     "name": "stdout",
     "output_type": "stream",
     "text": [
      "+-------------+\n",
      "|         page|\n",
      "+-------------+\n",
      "|        About|\n",
      "|    Downgrade|\n",
      "|         Help|\n",
      "|         Home|\n",
      "|        Login|\n",
      "|       Logout|\n",
      "|     NextSong|\n",
      "|Save Settings|\n",
      "|     Settings|\n",
      "|      Upgrade|\n",
      "+-------------+\n",
      "\n"
     ]
    }
   ],
   "source": [
    "df.select(\"page\").dropDuplicates().sort(\"page\").show()"
   ]
  },
  {
   "cell_type": "code",
   "execution_count": 111,
   "metadata": {},
   "outputs": [
    {
     "data": {
      "text/plain": [
       "[Row(userId='80', firstname='Tegan', page='Home', level='free', song=None),\n",
       " Row(userId='80', firstname='Tegan', page='NextSong', level='free', song=\"Baby I'm Yours\"),\n",
       " Row(userId='80', firstname='Tegan', page='Home', level='paid', song=None),\n",
       " Row(userId='80', firstname='Tegan', page='NextSong', level='paid', song='Best Of Both Worlds (Remastered Album Version)'),\n",
       " Row(userId='80', firstname='Tegan', page='NextSong', level='paid', song='Call Me If You Need Me'),\n",
       " Row(userId='80', firstname='Tegan', page='NextSong', level='paid', song='Home'),\n",
       " Row(userId='80', firstname='Tegan', page='NextSong', level='paid', song='OMG'),\n",
       " Row(userId='80', firstname='Tegan', page='Home', level='paid', song=None),\n",
       " Row(userId='80', firstname='Tegan', page='NextSong', level='paid', song='Candle On The Water'),\n",
       " Row(userId='80', firstname='Tegan', page='NextSong', level='paid', song='Our Song'),\n",
       " Row(userId='80', firstname='Tegan', page='NextSong', level='paid', song='Baby Boy [feat. Beyonce]'),\n",
       " Row(userId='80', firstname='Tegan', page='NextSong', level='paid', song='Human'),\n",
       " Row(userId='80', firstname='Tegan', page='NextSong', level='paid', song='Goodbye (Interlude)'),\n",
       " Row(userId='80', firstname='Tegan', page='Downgrade', level='paid', song=None),\n",
       " Row(userId='80', firstname='Tegan', page='Downgrade', level='paid', song=None),\n",
       " Row(userId='80', firstname='Tegan', page='NextSong', level='paid', song='Chill Out'),\n",
       " Row(userId='80', firstname='Tegan', page='NextSong', level='paid', song=\"What's A Broken Heart\"),\n",
       " Row(userId='80', firstname='Tegan', page='NextSong', level='paid', song='Christians In Black'),\n",
       " Row(userId='80', firstname='Tegan', page='NextSong', level='paid', song='Might Like You Better'),\n",
       " Row(userId='80', firstname='Tegan', page='NextSong', level='paid', song='Victoria (LP Version)'),\n",
       " Row(userId='80', firstname='Tegan', page='NextSong', level='paid', song=\"What's Luv? (Featuring Ja-Rule & Ashanti) (Explicit Album Version)\"),\n",
       " Row(userId='80', firstname='Tegan', page='NextSong', level='paid', song='Same Mistake  (Album Version)'),\n",
       " Row(userId='80', firstname='Tegan', page='NextSong', level='paid', song=\"Frisch und g'sund\"),\n",
       " Row(userId='80', firstname='Tegan', page='Downgrade', level='paid', song=None),\n",
       " Row(userId='80', firstname='Tegan', page='NextSong', level='paid', song=\"Should've Been A Cowboy\"),\n",
       " Row(userId='80', firstname='Tegan', page='NextSong', level='paid', song='Gears'),\n",
       " Row(userId='80', firstname='Tegan', page='NextSong', level='paid', song='Forgotten'),\n",
       " Row(userId='80', firstname='Tegan', page='NextSong', level='paid', song='The Way I Loved You'),\n",
       " Row(userId='80', firstname='Tegan', page='NextSong', level='paid', song=\"You're The One\"),\n",
       " Row(userId='80', firstname='Tegan', page='NextSong', level='paid', song='Do You Call My Name'),\n",
       " Row(userId='80', firstname='Tegan', page='NextSong', level='paid', song='Dans Ma Bulle (Edit Radio - Live 2006)'),\n",
       " Row(userId='80', firstname='Tegan', page='NextSong', level='paid', song='Love Remains (Home Demo)'),\n",
       " Row(userId='80', firstname='Tegan', page='NextSong', level='paid', song='Big'),\n",
       " Row(userId='80', firstname='Tegan', page='NextSong', level='paid', song=\"Hey Daddy (Daddy's Home)\"),\n",
       " Row(userId='80', firstname='Tegan', page='NextSong', level='paid', song='I Kissed A Girl'),\n",
       " Row(userId='80', firstname='Tegan', page='NextSong', level='paid', song='I Fought The Law (LP Version)'),\n",
       " Row(userId='80', firstname='Tegan', page='NextSong', level='paid', song='Too Much'),\n",
       " Row(userId='80', firstname='Tegan', page='NextSong', level='paid', song='All Hands Against His Own'),\n",
       " Row(userId='80', firstname='Tegan', page='NextSong', level='paid', song='Friends_ Lovers Or Nothing'),\n",
       " Row(userId='80', firstname='Tegan', page='NextSong', level='paid', song='A Gentle Heart'),\n",
       " Row(userId='80', firstname='Tegan', page='NextSong', level='paid', song='Tell Her Tonight'),\n",
       " Row(userId='80', firstname='Tegan', page='NextSong', level='paid', song='Stella By Starlight'),\n",
       " Row(userId='80', firstname='Tegan', page='NextSong', level='paid', song='Caprice viennois op.2'),\n",
       " Row(userId='80', firstname='Tegan', page='NextSong', level='paid', song='Ambrosia'),\n",
       " Row(userId='80', firstname='Tegan', page='NextSong', level='paid', song='Higher Messiah'),\n",
       " Row(userId='80', firstname='Tegan', page='NextSong', level='paid', song='Wounded Soul'),\n",
       " Row(userId='80', firstname='Tegan', page='NextSong', level='paid', song='Face Of Fear'),\n",
       " Row(userId='80', firstname='Tegan', page='NextSong', level='paid', song='What You Know'),\n",
       " Row(userId='80', firstname='Tegan', page='NextSong', level='paid', song='Hurt'),\n",
       " Row(userId='80', firstname='Tegan', page='NextSong', level='paid', song=\"So What's New\"),\n",
       " Row(userId='80', firstname='Tegan', page='NextSong', level='paid', song='Mooncalf'),\n",
       " Row(userId='80', firstname='Tegan', page='NextSong', level='paid', song=\"Bitches Ain't Shit\"),\n",
       " Row(userId='80', firstname='Tegan', page='NextSong', level='paid', song='Feiticeira (LP Version)'),\n",
       " Row(userId='80', firstname='Tegan', page='NextSong', level='paid', song='Map Of The Problematique'),\n",
       " Row(userId='80', firstname='Tegan', page='NextSong', level='paid', song='One And Only'),\n",
       " Row(userId='80', firstname='Tegan', page='NextSong', level='paid', song='The Way I Are'),\n",
       " Row(userId='80', firstname='Tegan', page='NextSong', level='paid', song='Baby_ I Love Your Way (Album Version)'),\n",
       " Row(userId='80', firstname='Tegan', page='NextSong', level='paid', song='Belong'),\n",
       " Row(userId='80', firstname='Tegan', page='NextSong', level='paid', song='My Favorite Things'),\n",
       " Row(userId='80', firstname='Tegan', page='NextSong', level='paid', song='Uncharted'),\n",
       " Row(userId='80', firstname='Tegan', page='NextSong', level='paid', song='Unite (2009 Digital Remaster)'),\n",
       " Row(userId='80', firstname='Tegan', page='NextSong', level='paid', song='Who Let You Go?'),\n",
       " Row(userId='80', firstname='Tegan', page='NextSong', level='paid', song='Good Soldier'),\n",
       " Row(userId='80', firstname='Tegan', page='NextSong', level='paid', song='Do You Remember'),\n",
       " Row(userId='80', firstname='Tegan', page='NextSong', level='paid', song='A Girl Like You'),\n",
       " Row(userId='80', firstname='Tegan', page='Home', level='paid', song=None),\n",
       " Row(userId='80', firstname='Tegan', page='NextSong', level='paid', song='Lagrimas Negras'),\n",
       " Row(userId='80', firstname='Tegan', page='NextSong', level='paid', song='Revelry'),\n",
       " Row(userId='80', firstname='Tegan', page='NextSong', level='paid', song='Love Is A Losing Game'),\n",
       " Row(userId='80', firstname='Tegan', page='NextSong', level='paid', song='Dog Days Are Over (Radio Edit)'),\n",
       " Row(userId='80', firstname='Tegan', page='NextSong', level='paid', song='Tiny Tears'),\n",
       " Row(userId='80', firstname='Tegan', page='NextSong', level='paid', song='Number One Song'),\n",
       " Row(userId='80', firstname='Tegan', page='NextSong', level='paid', song='Same Thing'),\n",
       " Row(userId='80', firstname='Tegan', page='NextSong', level='paid', song='Tell Me Baby (Album Version)'),\n",
       " Row(userId='80', firstname='Tegan', page='NextSong', level='paid', song='Dear God (Album Version)'),\n",
       " Row(userId='80', firstname='Tegan', page='NextSong', level='paid', song='Calling You'),\n",
       " Row(userId='80', firstname='Tegan', page='NextSong', level='paid', song='I Tried'),\n",
       " Row(userId='80', firstname='Tegan', page='NextSong', level='paid', song='Drama'),\n",
       " Row(userId='80', firstname='Tegan', page='NextSong', level='paid', song='Slowly'),\n",
       " Row(userId='80', firstname='Tegan', page='NextSong', level='paid', song='God Smack'),\n",
       " Row(userId='80', firstname='Tegan', page='NextSong', level='paid', song='Oceanside'),\n",
       " Row(userId='80', firstname='Tegan', page='NextSong', level='paid', song='Cigarettes_ Wedding Bands (Album)'),\n",
       " Row(userId='80', firstname='Tegan', page='NextSong', level='paid', song='Who Can Compare'),\n",
       " Row(userId='80', firstname='Tegan', page='NextSong', level='paid', song='On The Other Side'),\n",
       " Row(userId='80', firstname='Tegan', page='NextSong', level='paid', song='Bleed It Out [Live At Milton Keynes]'),\n",
       " Row(userId='80', firstname='Tegan', page='NextSong', level='paid', song='White Winter Hymnal'),\n",
       " Row(userId='80', firstname='Tegan', page='NextSong', level='paid', song='Civil War'),\n",
       " Row(userId='80', firstname='Tegan', page='NextSong', level='paid', song='Bend Over Beethoven'),\n",
       " Row(userId='80', firstname='Tegan', page='NextSong', level='paid', song='Who Do You Think You Are'),\n",
       " Row(userId='80', firstname='Tegan', page='NextSong', level='paid', song='Luces Sensacional'),\n",
       " Row(userId='80', firstname='Tegan', page='NextSong', level='paid', song='Triste Y Vacia'),\n",
       " Row(userId='80', firstname='Tegan', page='NextSong', level='paid', song='Place Vendome'),\n",
       " Row(userId='80', firstname='Tegan', page='NextSong', level='paid', song='Alaska'),\n",
       " Row(userId='80', firstname='Tegan', page='NextSong', level='paid', song=\"Ain't No Rest For The Wicked (Original Version)\"),\n",
       " Row(userId='80', firstname='Tegan', page='NextSong', level='paid', song='The Pretender'),\n",
       " Row(userId='80', firstname='Tegan', page='NextSong', level='paid', song='Bewildered'),\n",
       " Row(userId='80', firstname='Tegan', page='NextSong', level='paid', song='Supermassive Black Hole (Twilight Soundtrack Version)'),\n",
       " Row(userId='80', firstname='Tegan', page='NextSong', level='paid', song='Umbrella Beach'),\n",
       " Row(userId='80', firstname='Tegan', page='NextSong', level='paid', song='Canto Abacua'),\n",
       " Row(userId='80', firstname='Tegan', page='NextSong', level='paid', song='Over My Head (Cable Car)'),\n",
       " Row(userId='80', firstname='Tegan', page='NextSong', level='paid', song='SonoritÃ\\x83Â©s'),\n",
       " Row(userId='80', firstname='Tegan', page='NextSong', level='paid', song='Castle On A Cloud'),\n",
       " Row(userId='80', firstname='Tegan', page='NextSong', level='paid', song='Making Love (Into The Night)'),\n",
       " Row(userId='80', firstname='Tegan', page='NextSong', level='paid', song='Kryptonite'),\n",
       " Row(userId='80', firstname='Tegan', page='NextSong', level='paid', song='When I Grow Up'),\n",
       " Row(userId='80', firstname='Tegan', page='NextSong', level='paid', song='Dear John'),\n",
       " Row(userId='80', firstname='Tegan', page='NextSong', level='paid', song='Home (Album Version)'),\n",
       " Row(userId='80', firstname='Tegan', page='NextSong', level='paid', song='Forgiven'),\n",
       " Row(userId='80', firstname='Tegan', page='NextSong', level='paid', song='If You Want Blood'),\n",
       " Row(userId='80', firstname='Tegan', page='NextSong', level='paid', song='Give It Up (feat. Pharrell Williams) (Amended Album Version)'),\n",
       " Row(userId='80', firstname='Tegan', page='NextSong', level='paid', song='You Are Mine'),\n",
       " Row(userId='80', firstname='Tegan', page='Downgrade', level='paid', song=None),\n",
       " Row(userId='80', firstname='Tegan', page='NextSong', level='paid', song='Pojo Pojo'),\n",
       " Row(userId='80', firstname='Tegan', page='NextSong', level='paid', song='Like A Rolling Stone'),\n",
       " Row(userId='80', firstname='Tegan', page='NextSong', level='paid', song='Begin Again (Album Version)'),\n",
       " Row(userId='80', firstname='Tegan', page='Logout', level='paid', song=None)]"
      ]
     },
     "execution_count": 111,
     "metadata": {},
     "output_type": "execute_result"
    }
   ],
   "source": [
    "df.select([\"userId\", \"firstname\", \"page\", \"level\", \"song\"]).where(df.userId == \"80\").collect()"
   ]
  },
  {
   "cell_type": "code",
   "execution_count": 112,
   "metadata": {},
   "outputs": [],
   "source": [
    "get_hour = udf(lambda x: datetime.datetime.fromtimestamp(x / 1000.0).hour)"
   ]
  },
  {
   "cell_type": "code",
   "execution_count": 113,
   "metadata": {},
   "outputs": [],
   "source": [
    "df = df.withColumn(\"hour\", get_hour(df.ts))"
   ]
  },
  {
   "cell_type": "code",
   "execution_count": 114,
   "metadata": {},
   "outputs": [
    {
     "data": {
      "text/plain": [
       "Row(artist='Miami Horror', auth='Logged In', firstName='Kate', gender='F', itemInSession=88, lastName='Harrell', length=250.8273, level='paid', location='Lansing-East Lansing, MI', method='PUT', page='NextSong', registration=1540472624796.0, sessionId=293, song='Sometimes', status=200, ts=1541548876796, userAgent='\"Mozilla/5.0 (X11; Linux x86_64) AppleWebKit/537.36 (KHTML, like Gecko) Chrome/37.0.2062.94 Safari/537.36\"', userId='97', hour='3')"
      ]
     },
     "execution_count": 114,
     "metadata": {},
     "output_type": "execute_result"
    }
   ],
   "source": [
    "df.head()"
   ]
  },
  {
   "cell_type": "code",
   "execution_count": 115,
   "metadata": {},
   "outputs": [],
   "source": [
    "songs_in_hour = df.filter(df.page == \"NextSong\") \\\n",
    "                    .groupby(df.hour) \\\n",
    "                    .count() \\\n",
    "                    .orderBy(df.hour.cast(\"float\"))"
   ]
  },
  {
   "cell_type": "code",
   "execution_count": 116,
   "metadata": {},
   "outputs": [
    {
     "name": "stdout",
     "output_type": "stream",
     "text": [
      "+----+-----+\n",
      "|hour|count|\n",
      "+----+-----+\n",
      "|   0|   43|\n",
      "|   1|   34|\n",
      "|   2|   29|\n",
      "|   3|   27|\n",
      "|   4|    5|\n",
      "|   5|    2|\n",
      "|   6|    6|\n",
      "|   8|   10|\n",
      "|   9|   15|\n",
      "|  10|   13|\n",
      "|  11|   12|\n",
      "|  12|   30|\n",
      "|  13|   55|\n",
      "|  14|   63|\n",
      "|  15|   44|\n",
      "|  16|   50|\n",
      "|  17|   70|\n",
      "|  18|   61|\n",
      "|  19|   86|\n",
      "|  20|   78|\n",
      "+----+-----+\n",
      "only showing top 20 rows\n",
      "\n"
     ]
    }
   ],
   "source": [
    "songs_in_hour.show()"
   ]
  },
  {
   "cell_type": "code",
   "execution_count": 117,
   "metadata": {},
   "outputs": [],
   "source": [
    "song_in_hour_pd = songs_in_hour.toPandas()"
   ]
  },
  {
   "cell_type": "code",
   "execution_count": 118,
   "metadata": {},
   "outputs": [
    {
     "data": {
      "text/html": [
       "<div>\n",
       "<style scoped>\n",
       "    .dataframe tbody tr th:only-of-type {\n",
       "        vertical-align: middle;\n",
       "    }\n",
       "\n",
       "    .dataframe tbody tr th {\n",
       "        vertical-align: top;\n",
       "    }\n",
       "\n",
       "    .dataframe thead th {\n",
       "        text-align: right;\n",
       "    }\n",
       "</style>\n",
       "<table border=\"1\" class=\"dataframe\">\n",
       "  <thead>\n",
       "    <tr style=\"text-align: right;\">\n",
       "      <th></th>\n",
       "      <th>hour</th>\n",
       "      <th>count</th>\n",
       "    </tr>\n",
       "  </thead>\n",
       "  <tbody>\n",
       "    <tr>\n",
       "      <th>0</th>\n",
       "      <td>0</td>\n",
       "      <td>43</td>\n",
       "    </tr>\n",
       "    <tr>\n",
       "      <th>1</th>\n",
       "      <td>1</td>\n",
       "      <td>34</td>\n",
       "    </tr>\n",
       "    <tr>\n",
       "      <th>2</th>\n",
       "      <td>2</td>\n",
       "      <td>29</td>\n",
       "    </tr>\n",
       "    <tr>\n",
       "      <th>3</th>\n",
       "      <td>3</td>\n",
       "      <td>27</td>\n",
       "    </tr>\n",
       "    <tr>\n",
       "      <th>4</th>\n",
       "      <td>4</td>\n",
       "      <td>5</td>\n",
       "    </tr>\n",
       "  </tbody>\n",
       "</table>\n",
       "</div>"
      ],
      "text/plain": [
       "  hour  count\n",
       "0    0     43\n",
       "1    1     34\n",
       "2    2     29\n",
       "3    3     27\n",
       "4    4      5"
      ]
     },
     "execution_count": 118,
     "metadata": {},
     "output_type": "execute_result"
    }
   ],
   "source": [
    "song_in_hour_pd.head()"
   ]
  },
  {
   "cell_type": "code",
   "execution_count": 119,
   "metadata": {},
   "outputs": [],
   "source": [
    "df_valid = df.dropna(how = \"any\", subset = [\"userId\", \"sessionId\"])"
   ]
  },
  {
   "cell_type": "code",
   "execution_count": 120,
   "metadata": {},
   "outputs": [
    {
     "data": {
      "text/plain": [
       "1117"
      ]
     },
     "execution_count": 120,
     "metadata": {},
     "output_type": "execute_result"
    }
   ],
   "source": [
    "df_valid.count()"
   ]
  },
  {
   "cell_type": "code",
   "execution_count": 121,
   "metadata": {},
   "outputs": [],
   "source": [
    "df_valid = df_valid.filter(df_valid[\"userId\"] != \"\")"
   ]
  },
  {
   "cell_type": "code",
   "execution_count": 122,
   "metadata": {},
   "outputs": [
    {
     "data": {
      "text/plain": [
       "1089"
      ]
     },
     "execution_count": 122,
     "metadata": {},
     "output_type": "execute_result"
    }
   ],
   "source": [
    "df_valid.count()"
   ]
  },
  {
   "cell_type": "code",
   "execution_count": 123,
   "metadata": {},
   "outputs": [],
   "source": [
    "# beofre and after specific event\n"
   ]
  },
  {
   "cell_type": "code",
   "execution_count": 124,
   "metadata": {},
   "outputs": [],
   "source": [
    "flag_downgrade_event = udf(lambda x: 1 if x == \"Downgrade\" else 0, IntegerType())"
   ]
  },
  {
   "cell_type": "code",
   "execution_count": 125,
   "metadata": {},
   "outputs": [],
   "source": [
    "df_valid = df_valid.withColumn(\"downgraded\", flag_downgrade_event(\"page\"))"
   ]
  },
  {
   "cell_type": "code",
   "execution_count": 126,
   "metadata": {
    "scrolled": false
   },
   "outputs": [
    {
     "data": {
      "text/plain": [
       "Row(artist='Miami Horror', auth='Logged In', firstName='Kate', gender='F', itemInSession=88, lastName='Harrell', length=250.8273, level='paid', location='Lansing-East Lansing, MI', method='PUT', page='NextSong', registration=1540472624796.0, sessionId=293, song='Sometimes', status=200, ts=1541548876796, userAgent='\"Mozilla/5.0 (X11; Linux x86_64) AppleWebKit/537.36 (KHTML, like Gecko) Chrome/37.0.2062.94 Safari/537.36\"', userId='97', hour='3', downgraded=0)"
      ]
     },
     "execution_count": 126,
     "metadata": {},
     "output_type": "execute_result"
    }
   ],
   "source": [
    "df_valid.head()"
   ]
  },
  {
   "cell_type": "code",
   "execution_count": 131,
   "metadata": {},
   "outputs": [],
   "source": [
    "from pyspark.sql import Window\n",
    "from pyspark.sql.functions import desc\n",
    "from pyspark.sql.functions import sum as Fsum"
   ]
  },
  {
   "cell_type": "code",
   "execution_count": 132,
   "metadata": {},
   "outputs": [],
   "source": [
    "windowval = Window.partitionBy(\"userId\").orderBy(desc(\"ts\")).rangeBetween(Window.unboundedPreceding, 0)"
   ]
  },
  {
   "cell_type": "code",
   "execution_count": 133,
   "metadata": {},
   "outputs": [],
   "source": [
    "df_valid = df_valid.withColumn(\"phase\", Fsum(\"downgraded\").over(windowval))"
   ]
  },
  {
   "cell_type": "code",
   "execution_count": 137,
   "metadata": {},
   "outputs": [
    {
     "data": {
      "text/plain": [
       "[Row(userId='80', firstname='Tegan', ts=1541577563796, page='Home', level='free', phase=4),\n",
       " Row(userId='80', firstname='Tegan', ts=1541578087796, page='NextSong', level='free', phase=4),\n",
       " Row(userId='80', firstname='Tegan', ts=1542260277796, page='Home', level='paid', phase=4),\n",
       " Row(userId='80', firstname='Tegan', ts=1542260935796, page='NextSong', level='paid', phase=4),\n",
       " Row(userId='80', firstname='Tegan', ts=1542261224796, page='NextSong', level='paid', phase=4),\n",
       " Row(userId='80', firstname='Tegan', ts=1542261356796, page='NextSong', level='paid', phase=4),\n",
       " Row(userId='80', firstname='Tegan', ts=1542261662796, page='NextSong', level='paid', phase=4),\n",
       " Row(userId='80', firstname='Tegan', ts=1542261713796, page='Home', level='paid', phase=4),\n",
       " Row(userId='80', firstname='Tegan', ts=1542262057796, page='NextSong', level='paid', phase=4),\n",
       " Row(userId='80', firstname='Tegan', ts=1542262233796, page='NextSong', level='paid', phase=4),\n",
       " Row(userId='80', firstname='Tegan', ts=1542262434796, page='NextSong', level='paid', phase=4),\n",
       " Row(userId='80', firstname='Tegan', ts=1542262679796, page='NextSong', level='paid', phase=4),\n",
       " Row(userId='80', firstname='Tegan', ts=1542274783796, page='NextSong', level='paid', phase=4),\n",
       " Row(userId='80', firstname='Tegan', ts=1542275437796, page='Downgrade', level='paid', phase=4),\n",
       " Row(userId='80', firstname='Tegan', ts=1542276099796, page='Downgrade', level='paid', phase=3),\n",
       " Row(userId='80', firstname='Tegan', ts=1542276428796, page='NextSong', level='paid', phase=2),\n",
       " Row(userId='80', firstname='Tegan', ts=1542276660796, page='NextSong', level='paid', phase=2),\n",
       " Row(userId='80', firstname='Tegan', ts=1542276848796, page='NextSong', level='paid', phase=2),\n",
       " Row(userId='80', firstname='Tegan', ts=1542277082796, page='NextSong', level='paid', phase=2),\n",
       " Row(userId='80', firstname='Tegan', ts=1542277257796, page='NextSong', level='paid', phase=2),\n",
       " Row(userId='80', firstname='Tegan', ts=1542277488796, page='NextSong', level='paid', phase=2),\n",
       " Row(userId='80', firstname='Tegan', ts=1542277755796, page='NextSong', level='paid', phase=2),\n",
       " Row(userId='80', firstname='Tegan', ts=1542278053796, page='NextSong', level='paid', phase=2),\n",
       " Row(userId='80', firstname='Tegan', ts=1542278172796, page='Downgrade', level='paid', phase=2),\n",
       " Row(userId='80', firstname='Tegan', ts=1542278222796, page='NextSong', level='paid', phase=1),\n",
       " Row(userId='80', firstname='Tegan', ts=1542278430796, page='NextSong', level='paid', phase=1),\n",
       " Row(userId='80', firstname='Tegan', ts=1542278669796, page='NextSong', level='paid', phase=1),\n",
       " Row(userId='80', firstname='Tegan', ts=1542278895796, page='NextSong', level='paid', phase=1),\n",
       " Row(userId='80', firstname='Tegan', ts=1542279140796, page='NextSong', level='paid', phase=1),\n",
       " Row(userId='80', firstname='Tegan', ts=1542279379796, page='NextSong', level='paid', phase=1),\n",
       " Row(userId='80', firstname='Tegan', ts=1542279698796, page='NextSong', level='paid', phase=1),\n",
       " Row(userId='80', firstname='Tegan', ts=1542279948796, page='NextSong', level='paid', phase=1),\n",
       " Row(userId='80', firstname='Tegan', ts=1542280088796, page='NextSong', level='paid', phase=1),\n",
       " Row(userId='80', firstname='Tegan', ts=1542280285796, page='NextSong', level='paid', phase=1),\n",
       " Row(userId='80', firstname='Tegan', ts=1542280509796, page='NextSong', level='paid', phase=1),\n",
       " Row(userId='80', firstname='Tegan', ts=1542280688796, page='NextSong', level='paid', phase=1),\n",
       " Row(userId='80', firstname='Tegan', ts=1542280826796, page='NextSong', level='paid', phase=1),\n",
       " Row(userId='80', firstname='Tegan', ts=1542280886796, page='NextSong', level='paid', phase=1),\n",
       " Row(userId='80', firstname='Tegan', ts=1542281082796, page='NextSong', level='paid', phase=1),\n",
       " Row(userId='80', firstname='Tegan', ts=1542281441796, page='NextSong', level='paid', phase=1),\n",
       " Row(userId='80', firstname='Tegan', ts=1542281735796, page='NextSong', level='paid', phase=1),\n",
       " Row(userId='80', firstname='Tegan', ts=1542281872796, page='NextSong', level='paid', phase=1),\n",
       " Row(userId='80', firstname='Tegan', ts=1542282157796, page='NextSong', level='paid', phase=1),\n",
       " Row(userId='80', firstname='Tegan', ts=1542282432796, page='NextSong', level='paid', phase=1),\n",
       " Row(userId='80', firstname='Tegan', ts=1542282617796, page='NextSong', level='paid', phase=1),\n",
       " Row(userId='80', firstname='Tegan', ts=1542283025796, page='NextSong', level='paid', phase=1),\n",
       " Row(userId='80', firstname='Tegan', ts=1542283677796, page='NextSong', level='paid', phase=1),\n",
       " Row(userId='80', firstname='Tegan', ts=1542283877796, page='NextSong', level='paid', phase=1),\n",
       " Row(userId='80', firstname='Tegan', ts=1542284066796, page='NextSong', level='paid', phase=1),\n",
       " Row(userId='80', firstname='Tegan', ts=1542284193796, page='NextSong', level='paid', phase=1),\n",
       " Row(userId='80', firstname='Tegan', ts=1542284325796, page='NextSong', level='paid', phase=1),\n",
       " Row(userId='80', firstname='Tegan', ts=1542284786796, page='NextSong', level='paid', phase=1),\n",
       " Row(userId='80', firstname='Tegan', ts=1542285036796, page='NextSong', level='paid', phase=1),\n",
       " Row(userId='80', firstname='Tegan', ts=1542285225796, page='NextSong', level='paid', phase=1),\n",
       " Row(userId='80', firstname='Tegan', ts=1542285483796, page='NextSong', level='paid', phase=1),\n",
       " Row(userId='80', firstname='Tegan', ts=1542358469796, page='NextSong', level='paid', phase=1),\n",
       " Row(userId='80', firstname='Tegan', ts=1542358648796, page='NextSong', level='paid', phase=1),\n",
       " Row(userId='80', firstname='Tegan', ts=1542358897796, page='NextSong', level='paid', phase=1),\n",
       " Row(userId='80', firstname='Tegan', ts=1542359070796, page='NextSong', level='paid', phase=1),\n",
       " Row(userId='80', firstname='Tegan', ts=1542359382796, page='NextSong', level='paid', phase=1),\n",
       " Row(userId='80', firstname='Tegan', ts=1542359608796, page='NextSong', level='paid', phase=1),\n",
       " Row(userId='80', firstname='Tegan', ts=1542359819796, page='NextSong', level='paid', phase=1),\n",
       " Row(userId='80', firstname='Tegan', ts=1542360041796, page='NextSong', level='paid', phase=1),\n",
       " Row(userId='80', firstname='Tegan', ts=1542360287796, page='NextSong', level='paid', phase=1),\n",
       " Row(userId='80', firstname='Tegan', ts=1542360431796, page='NextSong', level='paid', phase=1),\n",
       " Row(userId='80', firstname='Tegan', ts=1542361052796, page='Home', level='paid', phase=1),\n",
       " Row(userId='80', firstname='Tegan', ts=1542361289796, page='NextSong', level='paid', phase=1),\n",
       " Row(userId='80', firstname='Tegan', ts=1542361620796, page='NextSong', level='paid', phase=1),\n",
       " Row(userId='80', firstname='Tegan', ts=1542361821796, page='NextSong', level='paid', phase=1),\n",
       " Row(userId='80', firstname='Tegan', ts=1542362044796, page='NextSong', level='paid', phase=1),\n",
       " Row(userId='80', firstname='Tegan', ts=1542362263796, page='NextSong', level='paid', phase=1),\n",
       " Row(userId='80', firstname='Tegan', ts=1542362815796, page='NextSong', level='paid', phase=1),\n",
       " Row(userId='80', firstname='Tegan', ts=1542363059796, page='NextSong', level='paid', phase=1),\n",
       " Row(userId='80', firstname='Tegan', ts=1542363154796, page='NextSong', level='paid', phase=1),\n",
       " Row(userId='80', firstname='Tegan', ts=1542363401796, page='NextSong', level='paid', phase=1),\n",
       " Row(userId='80', firstname='Tegan', ts=1542363794796, page='NextSong', level='paid', phase=1),\n",
       " Row(userId='80', firstname='Tegan', ts=1542364035796, page='NextSong', level='paid', phase=1),\n",
       " Row(userId='80', firstname='Tegan', ts=1542364322796, page='NextSong', level='paid', phase=1),\n",
       " Row(userId='80', firstname='Tegan', ts=1542364777796, page='NextSong', level='paid', phase=1),\n",
       " Row(userId='80', firstname='Tegan', ts=1542365010796, page='NextSong', level='paid', phase=1),\n",
       " Row(userId='80', firstname='Tegan', ts=1542365240796, page='NextSong', level='paid', phase=1),\n",
       " Row(userId='80', firstname='Tegan', ts=1542365456796, page='NextSong', level='paid', phase=1),\n",
       " Row(userId='80', firstname='Tegan', ts=1542365731796, page='NextSong', level='paid', phase=1),\n",
       " Row(userId='80', firstname='Tegan', ts=1542365997796, page='NextSong', level='paid', phase=1),\n",
       " Row(userId='80', firstname='Tegan', ts=1542366275796, page='NextSong', level='paid', phase=1),\n",
       " Row(userId='80', firstname='Tegan', ts=1542366769796, page='NextSong', level='paid', phase=1),\n",
       " Row(userId='80', firstname='Tegan', ts=1542366916796, page='NextSong', level='paid', phase=1),\n",
       " Row(userId='80', firstname='Tegan', ts=1542367380796, page='NextSong', level='paid', phase=1),\n",
       " Row(userId='80', firstname='Tegan', ts=1542367866796, page='NextSong', level='paid', phase=1),\n",
       " Row(userId='80', firstname='Tegan', ts=1542368105796, page='NextSong', level='paid', phase=1),\n",
       " Row(userId='80', firstname='Tegan', ts=1542368368796, page='NextSong', level='paid', phase=1),\n",
       " Row(userId='80', firstname='Tegan', ts=1542368736796, page='NextSong', level='paid', phase=1),\n",
       " Row(userId='80', firstname='Tegan', ts=1542368975796, page='NextSong', level='paid', phase=1),\n",
       " Row(userId='80', firstname='Tegan', ts=1542369164796, page='NextSong', level='paid', phase=1),\n",
       " Row(userId='80', firstname='Tegan', ts=1542369339796, page='NextSong', level='paid', phase=1),\n",
       " Row(userId='80', firstname='Tegan', ts=1542369610796, page='NextSong', level='paid', phase=1),\n",
       " Row(userId='80', firstname='Tegan', ts=1542369766796, page='NextSong', level='paid', phase=1),\n",
       " Row(userId='80', firstname='Tegan', ts=1542369975796, page='NextSong', level='paid', phase=1),\n",
       " Row(userId='80', firstname='Tegan', ts=1542370205796, page='NextSong', level='paid', phase=1),\n",
       " Row(userId='80', firstname='Tegan', ts=1542370701796, page='NextSong', level='paid', phase=1),\n",
       " Row(userId='80', firstname='Tegan', ts=1542370936796, page='NextSong', level='paid', phase=1),\n",
       " Row(userId='80', firstname='Tegan', ts=1542370989796, page='NextSong', level='paid', phase=1),\n",
       " Row(userId='80', firstname='Tegan', ts=1542371184796, page='NextSong', level='paid', phase=1),\n",
       " Row(userId='80', firstname='Tegan', ts=1542371400796, page='NextSong', level='paid', phase=1),\n",
       " Row(userId='80', firstname='Tegan', ts=1542371633796, page='NextSong', level='paid', phase=1),\n",
       " Row(userId='80', firstname='Tegan', ts=1542371878796, page='NextSong', level='paid', phase=1),\n",
       " Row(userId='80', firstname='Tegan', ts=1542372153796, page='NextSong', level='paid', phase=1),\n",
       " Row(userId='80', firstname='Tegan', ts=1542372378796, page='NextSong', level='paid', phase=1),\n",
       " Row(userId='80', firstname='Tegan', ts=1542372601796, page='NextSong', level='paid', phase=1),\n",
       " Row(userId='80', firstname='Tegan', ts=1542372846796, page='NextSong', level='paid', phase=1),\n",
       " Row(userId='80', firstname='Tegan', ts=1542373057796, page='NextSong', level='paid', phase=1),\n",
       " Row(userId='80', firstname='Tegan', ts=1542373124796, page='Downgrade', level='paid', phase=1),\n",
       " Row(userId='80', firstname='Tegan', ts=1542373243796, page='NextSong', level='paid', phase=0),\n",
       " Row(userId='80', firstname='Tegan', ts=1542373546796, page='NextSong', level='paid', phase=0),\n",
       " Row(userId='80', firstname='Tegan', ts=1542373914796, page='NextSong', level='paid', phase=0),\n",
       " Row(userId='80', firstname='Tegan', ts=1542373915796, page='Logout', level='paid', phase=0)]"
      ]
     },
     "execution_count": 137,
     "metadata": {},
     "output_type": "execute_result"
    }
   ],
   "source": [
    "df_valid.select([\"userId\", \"firstname\", \"ts\", \"page\", \"level\", \"phase\"]) \\\n",
    "    .where(df_valid.userId == \"80\") \\\n",
    "    .sort(\"ts\") \\\n",
    "    .collect()"
   ]
  },
  {
   "cell_type": "code",
   "execution_count": 95,
   "metadata": {},
   "outputs": [],
   "source": [
    "spark.stop()"
   ]
  },
  {
   "cell_type": "markdown",
   "metadata": {},
   "source": [
    "## General functions"
   ]
  },
  {
   "cell_type": "markdown",
   "metadata": {},
   "source": [
    "\n",
    "**select()** : returns a new dataframe with the selected columns\n",
    "\n",
    "**filter()** : filters rows using the given condition\n",
    "\n",
    "**where()** : is just an alias for filter()\n",
    "\n",
    "**groupBy()** : groups the DataFrame using the specified columns, so we can run aggregation on them\n",
    "\n",
    "**sort()** : returns a new DataFrame sorted by the specified column(s). By default the second parameter 'ascending' is True\n",
    "\n",
    "**dropDuplicates()** : returns a new dataframe with unique rows based on all or just a subset of columns\n",
    "\n",
    "**withColumn()** : returns a new DataFrame by adding a column or replacing the existing column that has the same name. The first parameter is the name of the new column, the second is an expression of how to compute it"
   ]
  },
  {
   "cell_type": "markdown",
   "metadata": {},
   "source": [
    "## Aggregate functions\n"
   ]
  },
  {
   "cell_type": "markdown",
   "metadata": {},
   "source": [
    "Spark SQL provides built-in methods for the most common aggregations pyspark.sql.functions module, such as :\n",
    "\n",
    "\n",
    "    count(), countDistinct(), avg(), max(), min(), etc. \n",
    "    \n",
    "    \n",
    "**These methods are not the same as the built-in methods in the Python Standard Library, where we can find min() for example as well, hence you need to be careful not to try to use them interchangeably.**\n",
    "\n",
    "**In many cases, there are multiple ways to express the same aggregations.**\n",
    "\n",
    "For example, if we would like to compute one type of aggregate for one or more columns of the dataframe we can just simply chain the aggregate method after a groupBy(). \n",
    "\n",
    "If we would like to use different functions on different columns agg() comes in handy. For example agg({\"salary\": \"avg\", \"age\": \"max\"}) computes the average salary and maximum age."
   ]
  },
  {
   "cell_type": "markdown",
   "metadata": {},
   "source": [
    "## User defined functions (UDF)"
   ]
  },
  {
   "cell_type": "markdown",
   "metadata": {},
   "source": [
    "\n",
    "In Spark SQL we can define our own functions with the udf method from the **pyspark.sql.functions** module. \n",
    "\n",
    "The default type of the returned variable for UDFs is ****string****. If we would like to return an other type we need to explicitly do so by using the different types from the **pyspark.sql.types** module."
   ]
  },
  {
   "cell_type": "markdown",
   "metadata": {},
   "source": [
    "## Window functions"
   ]
  },
  {
   "cell_type": "markdown",
   "metadata": {},
   "source": [
    "Window functions are a way of combining the values of ranges of rows in a dataframe. \n",
    "\n",
    "When defining the window we can choose how to sort and group (with the partitionBy method) the rows and how wide of a window we'd like to use (described by rangeBetween or rowsBetween)."
   ]
  },
  {
   "cell_type": "markdown",
   "metadata": {},
   "source": [
    "https://spark.apache.org/docs/latest/api/python/index.html"
   ]
  },
  {
   "cell_type": "code",
   "execution_count": null,
   "metadata": {},
   "outputs": [],
   "source": []
  }
 ],
 "metadata": {
  "kernelspec": {
   "display_name": "Python 3",
   "language": "python",
   "name": "python3"
  },
  "language_info": {
   "codemirror_mode": {
    "name": "ipython",
    "version": 3
   },
   "file_extension": ".py",
   "mimetype": "text/x-python",
   "name": "python",
   "nbconvert_exporter": "python",
   "pygments_lexer": "ipython3",
   "version": "3.6.5"
  }
 },
 "nbformat": 4,
 "nbformat_minor": 2
}
